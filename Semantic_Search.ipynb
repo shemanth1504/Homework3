{
  "nbformat": 4,
  "nbformat_minor": 0,
  "metadata": {
    "colab": {
      "provenance": [],
      "gpuType": "T4"
    },
    "kernelspec": {
      "name": "python3",
      "display_name": "Python 3"
    },
    "language_info": {
      "name": "python"
    },
    "accelerator": "GPU"
  },
  "cells": [
    {
      "cell_type": "code",
      "source": [
        "import pandas as pd\n",
        "from google.colab import files\n",
        "\n",
        "def load_csv_file():\n",
        "    print(\"Please upload your CSV file.\")\n",
        "    uploaded = files.upload()\n",
        "\n",
        "    if not uploaded:\n",
        "        print(\"No file uploaded.\")\n",
        "        return None\n",
        "\n",
        "    filename = next(iter(uploaded))\n",
        "    print(f\"Loading '{filename}' into DataFrame.\")\n",
        "    df = pd.read_csv(filename)\n",
        "\n",
        "    return df\n",
        "\n",
        "# Load the uploaded CSV file into a DataFrame\n",
        "data = load_csv_file()\n",
        "\n",
        "# Check if the data is loaded successfully\n",
        "if data is not None:\n",
        "    print(\"Data loaded successfully.\")\n",
        "    print(data.head())  # Show the first few rows of the DataFrame\n",
        "else:\n",
        "    print(\"Data loading failed.\")"
      ],
      "metadata": {
        "colab": {
          "base_uri": "https://localhost:8080/",
          "height": 594
        },
        "id": "swOQPFaNlvPL",
        "outputId": "c37a7e4e-084e-43c2-b4a6-f62df4385f60"
      },
      "execution_count": null,
      "outputs": [
        {
          "output_type": "stream",
          "name": "stdout",
          "text": [
            "Please upload your CSV file.\n"
          ]
        },
        {
          "output_type": "display_data",
          "data": {
            "text/plain": [
              "<IPython.core.display.HTML object>"
            ],
            "text/html": [
              "\n",
              "     <input type=\"file\" id=\"files-78eaa38b-f177-45ae-99f3-df7aebb96f77\" name=\"files[]\" multiple disabled\n",
              "        style=\"border:none\" />\n",
              "     <output id=\"result-78eaa38b-f177-45ae-99f3-df7aebb96f77\">\n",
              "      Upload widget is only available when the cell has been executed in the\n",
              "      current browser session. Please rerun this cell to enable.\n",
              "      </output>\n",
              "      <script>// Copyright 2017 Google LLC\n",
              "//\n",
              "// Licensed under the Apache License, Version 2.0 (the \"License\");\n",
              "// you may not use this file except in compliance with the License.\n",
              "// You may obtain a copy of the License at\n",
              "//\n",
              "//      http://www.apache.org/licenses/LICENSE-2.0\n",
              "//\n",
              "// Unless required by applicable law or agreed to in writing, software\n",
              "// distributed under the License is distributed on an \"AS IS\" BASIS,\n",
              "// WITHOUT WARRANTIES OR CONDITIONS OF ANY KIND, either express or implied.\n",
              "// See the License for the specific language governing permissions and\n",
              "// limitations under the License.\n",
              "\n",
              "/**\n",
              " * @fileoverview Helpers for google.colab Python module.\n",
              " */\n",
              "(function(scope) {\n",
              "function span(text, styleAttributes = {}) {\n",
              "  const element = document.createElement('span');\n",
              "  element.textContent = text;\n",
              "  for (const key of Object.keys(styleAttributes)) {\n",
              "    element.style[key] = styleAttributes[key];\n",
              "  }\n",
              "  return element;\n",
              "}\n",
              "\n",
              "// Max number of bytes which will be uploaded at a time.\n",
              "const MAX_PAYLOAD_SIZE = 100 * 1024;\n",
              "\n",
              "function _uploadFiles(inputId, outputId) {\n",
              "  const steps = uploadFilesStep(inputId, outputId);\n",
              "  const outputElement = document.getElementById(outputId);\n",
              "  // Cache steps on the outputElement to make it available for the next call\n",
              "  // to uploadFilesContinue from Python.\n",
              "  outputElement.steps = steps;\n",
              "\n",
              "  return _uploadFilesContinue(outputId);\n",
              "}\n",
              "\n",
              "// This is roughly an async generator (not supported in the browser yet),\n",
              "// where there are multiple asynchronous steps and the Python side is going\n",
              "// to poll for completion of each step.\n",
              "// This uses a Promise to block the python side on completion of each step,\n",
              "// then passes the result of the previous step as the input to the next step.\n",
              "function _uploadFilesContinue(outputId) {\n",
              "  const outputElement = document.getElementById(outputId);\n",
              "  const steps = outputElement.steps;\n",
              "\n",
              "  const next = steps.next(outputElement.lastPromiseValue);\n",
              "  return Promise.resolve(next.value.promise).then((value) => {\n",
              "    // Cache the last promise value to make it available to the next\n",
              "    // step of the generator.\n",
              "    outputElement.lastPromiseValue = value;\n",
              "    return next.value.response;\n",
              "  });\n",
              "}\n",
              "\n",
              "/**\n",
              " * Generator function which is called between each async step of the upload\n",
              " * process.\n",
              " * @param {string} inputId Element ID of the input file picker element.\n",
              " * @param {string} outputId Element ID of the output display.\n",
              " * @return {!Iterable<!Object>} Iterable of next steps.\n",
              " */\n",
              "function* uploadFilesStep(inputId, outputId) {\n",
              "  const inputElement = document.getElementById(inputId);\n",
              "  inputElement.disabled = false;\n",
              "\n",
              "  const outputElement = document.getElementById(outputId);\n",
              "  outputElement.innerHTML = '';\n",
              "\n",
              "  const pickedPromise = new Promise((resolve) => {\n",
              "    inputElement.addEventListener('change', (e) => {\n",
              "      resolve(e.target.files);\n",
              "    });\n",
              "  });\n",
              "\n",
              "  const cancel = document.createElement('button');\n",
              "  inputElement.parentElement.appendChild(cancel);\n",
              "  cancel.textContent = 'Cancel upload';\n",
              "  const cancelPromise = new Promise((resolve) => {\n",
              "    cancel.onclick = () => {\n",
              "      resolve(null);\n",
              "    };\n",
              "  });\n",
              "\n",
              "  // Wait for the user to pick the files.\n",
              "  const files = yield {\n",
              "    promise: Promise.race([pickedPromise, cancelPromise]),\n",
              "    response: {\n",
              "      action: 'starting',\n",
              "    }\n",
              "  };\n",
              "\n",
              "  cancel.remove();\n",
              "\n",
              "  // Disable the input element since further picks are not allowed.\n",
              "  inputElement.disabled = true;\n",
              "\n",
              "  if (!files) {\n",
              "    return {\n",
              "      response: {\n",
              "        action: 'complete',\n",
              "      }\n",
              "    };\n",
              "  }\n",
              "\n",
              "  for (const file of files) {\n",
              "    const li = document.createElement('li');\n",
              "    li.append(span(file.name, {fontWeight: 'bold'}));\n",
              "    li.append(span(\n",
              "        `(${file.type || 'n/a'}) - ${file.size} bytes, ` +\n",
              "        `last modified: ${\n",
              "            file.lastModifiedDate ? file.lastModifiedDate.toLocaleDateString() :\n",
              "                                    'n/a'} - `));\n",
              "    const percent = span('0% done');\n",
              "    li.appendChild(percent);\n",
              "\n",
              "    outputElement.appendChild(li);\n",
              "\n",
              "    const fileDataPromise = new Promise((resolve) => {\n",
              "      const reader = new FileReader();\n",
              "      reader.onload = (e) => {\n",
              "        resolve(e.target.result);\n",
              "      };\n",
              "      reader.readAsArrayBuffer(file);\n",
              "    });\n",
              "    // Wait for the data to be ready.\n",
              "    let fileData = yield {\n",
              "      promise: fileDataPromise,\n",
              "      response: {\n",
              "        action: 'continue',\n",
              "      }\n",
              "    };\n",
              "\n",
              "    // Use a chunked sending to avoid message size limits. See b/62115660.\n",
              "    let position = 0;\n",
              "    do {\n",
              "      const length = Math.min(fileData.byteLength - position, MAX_PAYLOAD_SIZE);\n",
              "      const chunk = new Uint8Array(fileData, position, length);\n",
              "      position += length;\n",
              "\n",
              "      const base64 = btoa(String.fromCharCode.apply(null, chunk));\n",
              "      yield {\n",
              "        response: {\n",
              "          action: 'append',\n",
              "          file: file.name,\n",
              "          data: base64,\n",
              "        },\n",
              "      };\n",
              "\n",
              "      let percentDone = fileData.byteLength === 0 ?\n",
              "          100 :\n",
              "          Math.round((position / fileData.byteLength) * 100);\n",
              "      percent.textContent = `${percentDone}% done`;\n",
              "\n",
              "    } while (position < fileData.byteLength);\n",
              "  }\n",
              "\n",
              "  // All done.\n",
              "  yield {\n",
              "    response: {\n",
              "      action: 'complete',\n",
              "    }\n",
              "  };\n",
              "}\n",
              "\n",
              "scope.google = scope.google || {};\n",
              "scope.google.colab = scope.google.colab || {};\n",
              "scope.google.colab._files = {\n",
              "  _uploadFiles,\n",
              "  _uploadFilesContinue,\n",
              "};\n",
              "})(self);\n",
              "</script> "
            ]
          },
          "metadata": {}
        },
        {
          "output_type": "stream",
          "name": "stdout",
          "text": [
            "Saving wiki_movie_plots_deduped.csv to wiki_movie_plots_deduped.csv\n",
            "Loading 'wiki_movie_plots_deduped.csv' into DataFrame.\n",
            "Data loaded successfully.\n",
            "   Release Year                             Title Origin/Ethnicity  \\\n",
            "0          1901            Kansas Saloon Smashers         American   \n",
            "1          1901     Love by the Light of the Moon         American   \n",
            "2          1901           The Martyred Presidents         American   \n",
            "3          1901  Terrible Teddy, the Grizzly King         American   \n",
            "4          1902            Jack and the Beanstalk         American   \n",
            "\n",
            "                             Director Cast    Genre  \\\n",
            "0                             Unknown  NaN  unknown   \n",
            "1                             Unknown  NaN  unknown   \n",
            "2                             Unknown  NaN  unknown   \n",
            "3                             Unknown  NaN  unknown   \n",
            "4  George S. Fleming, Edwin S. Porter  NaN  unknown   \n",
            "\n",
            "                                           Wiki Page  \\\n",
            "0  https://en.wikipedia.org/wiki/Kansas_Saloon_Sm...   \n",
            "1  https://en.wikipedia.org/wiki/Love_by_the_Ligh...   \n",
            "2  https://en.wikipedia.org/wiki/The_Martyred_Pre...   \n",
            "3  https://en.wikipedia.org/wiki/Terrible_Teddy,_...   \n",
            "4  https://en.wikipedia.org/wiki/Jack_and_the_Bea...   \n",
            "\n",
            "                                                Plot  \n",
            "0  A bartender is working at a saloon, serving dr...  \n",
            "1  The moon, painted with a smiling face hangs ov...  \n",
            "2  The film, just over a minute long, is composed...  \n",
            "3  Lasting just 61 seconds and consisting of two ...  \n",
            "4  The earliest known adaptation of the classic f...  \n"
          ]
        }
      ]
    },
    {
      "cell_type": "markdown",
      "source": [
        "Explantion\n",
        "we loaded the csv file using the upload button"
      ],
      "metadata": {
        "id": "7KE-mboW30A2"
      }
    },
    {
      "cell_type": "code",
      "source": [
        "import pandas as pd\n",
        "\n",
        "def process_data(filename, output_filename):\n",
        "    # Load only the 'Title' and 'Plot' columns from the CSV file\n",
        "    df = pd.read_csv(filename, usecols=['Title', 'Plot'])\n",
        "\n",
        "    # Here you can apply any function to the dataframe if needed\n",
        "    # For example, you could do some data cleaning or processing\n",
        "    # processed_df = your_function(df)\n",
        "\n",
        "    # For this example, we'll just use the original dataframe\n",
        "    processed_df = df\n",
        "\n",
        "    # Save the processed data to a new CSV file\n",
        "    processed_df.to_csv(output_filename, index=False)\n",
        "    print(f\"Data processed and saved to '{output_filename}'.\")\n",
        "\n",
        "# Specify the name of the already uploaded file and the output file\n",
        "input_filename = '/content/wiki_movie_plots_deduped.csv'\n",
        "output_filename = '/content/processed_movies.csv'\n",
        "\n",
        "# Process the data and save it to another file\n",
        "process_data(input_filename, output_filename)"
      ],
      "metadata": {
        "colab": {
          "base_uri": "https://localhost:8080/"
        },
        "id": "pH-R_OVRmp3x",
        "outputId": "867490a4-404f-4689-fd18-60012da8da7e"
      },
      "execution_count": null,
      "outputs": [
        {
          "output_type": "stream",
          "name": "stdout",
          "text": [
            "Data processed and saved to '/content/processed_movies.csv'.\n"
          ]
        }
      ]
    },
    {
      "cell_type": "markdown",
      "source": [
        "Explanation:\n",
        "we have removed the extra columns from the dataset and kept \"title\" and \"plot\" columns"
      ],
      "metadata": {
        "id": "2SKew_Ro4CJg"
      }
    },
    {
      "cell_type": "code",
      "execution_count": null,
      "metadata": {
        "colab": {
          "base_uri": "https://localhost:8080/"
        },
        "id": "ZxYhtDARhfFT",
        "outputId": "f90a5843-7109-413c-d1fc-7f9b58089e03"
      },
      "outputs": [
        {
          "output_type": "stream",
          "name": "stdout",
          "text": [
            "Collecting sentence-transformers\n",
            "  Downloading sentence_transformers-2.6.1-py3-none-any.whl (163 kB)\n",
            "\u001b[2K     \u001b[90m━━━━━━━━━━━━━━━━━━━━━━━━━━━━━━━━━━━━━━━━\u001b[0m \u001b[32m163.3/163.3 kB\u001b[0m \u001b[31m1.9 MB/s\u001b[0m eta \u001b[36m0:00:00\u001b[0m\n",
            "\u001b[?25hRequirement already satisfied: transformers<5.0.0,>=4.32.0 in /usr/local/lib/python3.10/dist-packages (from sentence-transformers) (4.38.2)\n",
            "Requirement already satisfied: tqdm in /usr/local/lib/python3.10/dist-packages (from sentence-transformers) (4.66.2)\n",
            "Requirement already satisfied: torch>=1.11.0 in /usr/local/lib/python3.10/dist-packages (from sentence-transformers) (2.2.1+cu121)\n",
            "Requirement already satisfied: numpy in /usr/local/lib/python3.10/dist-packages (from sentence-transformers) (1.25.2)\n",
            "Requirement already satisfied: scikit-learn in /usr/local/lib/python3.10/dist-packages (from sentence-transformers) (1.2.2)\n",
            "Requirement already satisfied: scipy in /usr/local/lib/python3.10/dist-packages (from sentence-transformers) (1.11.4)\n",
            "Requirement already satisfied: huggingface-hub>=0.15.1 in /usr/local/lib/python3.10/dist-packages (from sentence-transformers) (0.20.3)\n",
            "Requirement already satisfied: Pillow in /usr/local/lib/python3.10/dist-packages (from sentence-transformers) (9.4.0)\n",
            "Requirement already satisfied: filelock in /usr/local/lib/python3.10/dist-packages (from huggingface-hub>=0.15.1->sentence-transformers) (3.13.3)\n",
            "Requirement already satisfied: fsspec>=2023.5.0 in /usr/local/lib/python3.10/dist-packages (from huggingface-hub>=0.15.1->sentence-transformers) (2023.6.0)\n",
            "Requirement already satisfied: requests in /usr/local/lib/python3.10/dist-packages (from huggingface-hub>=0.15.1->sentence-transformers) (2.31.0)\n",
            "Requirement already satisfied: pyyaml>=5.1 in /usr/local/lib/python3.10/dist-packages (from huggingface-hub>=0.15.1->sentence-transformers) (6.0.1)\n",
            "Requirement already satisfied: typing-extensions>=3.7.4.3 in /usr/local/lib/python3.10/dist-packages (from huggingface-hub>=0.15.1->sentence-transformers) (4.10.0)\n",
            "Requirement already satisfied: packaging>=20.9 in /usr/local/lib/python3.10/dist-packages (from huggingface-hub>=0.15.1->sentence-transformers) (24.0)\n",
            "Requirement already satisfied: sympy in /usr/local/lib/python3.10/dist-packages (from torch>=1.11.0->sentence-transformers) (1.12)\n",
            "Requirement already satisfied: networkx in /usr/local/lib/python3.10/dist-packages (from torch>=1.11.0->sentence-transformers) (3.2.1)\n",
            "Requirement already satisfied: jinja2 in /usr/local/lib/python3.10/dist-packages (from torch>=1.11.0->sentence-transformers) (3.1.3)\n",
            "Collecting nvidia-cuda-nvrtc-cu12==12.1.105 (from torch>=1.11.0->sentence-transformers)\n",
            "  Downloading nvidia_cuda_nvrtc_cu12-12.1.105-py3-none-manylinux1_x86_64.whl (23.7 MB)\n",
            "\u001b[2K     \u001b[90m━━━━━━━━━━━━━━━━━━━━━━━━━━━━━━━━━━━━━━━━\u001b[0m \u001b[32m23.7/23.7 MB\u001b[0m \u001b[31m40.7 MB/s\u001b[0m eta \u001b[36m0:00:00\u001b[0m\n",
            "\u001b[?25hCollecting nvidia-cuda-runtime-cu12==12.1.105 (from torch>=1.11.0->sentence-transformers)\n",
            "  Downloading nvidia_cuda_runtime_cu12-12.1.105-py3-none-manylinux1_x86_64.whl (823 kB)\n",
            "\u001b[2K     \u001b[90m━━━━━━━━━━━━━━━━━━━━━━━━━━━━━━━━━━━━━━━━\u001b[0m \u001b[32m823.6/823.6 kB\u001b[0m \u001b[31m55.7 MB/s\u001b[0m eta \u001b[36m0:00:00\u001b[0m\n",
            "\u001b[?25hCollecting nvidia-cuda-cupti-cu12==12.1.105 (from torch>=1.11.0->sentence-transformers)\n",
            "  Downloading nvidia_cuda_cupti_cu12-12.1.105-py3-none-manylinux1_x86_64.whl (14.1 MB)\n",
            "\u001b[2K     \u001b[90m━━━━━━━━━━━━━━━━━━━━━━━━━━━━━━━━━━━━━━━━\u001b[0m \u001b[32m14.1/14.1 MB\u001b[0m \u001b[31m42.5 MB/s\u001b[0m eta \u001b[36m0:00:00\u001b[0m\n",
            "\u001b[?25hCollecting nvidia-cudnn-cu12==8.9.2.26 (from torch>=1.11.0->sentence-transformers)\n",
            "  Downloading nvidia_cudnn_cu12-8.9.2.26-py3-none-manylinux1_x86_64.whl (731.7 MB)\n",
            "\u001b[2K     \u001b[90m━━━━━━━━━━━━━━━━━━━━━━━━━━━━━━━━━━━━━━━━\u001b[0m \u001b[32m731.7/731.7 MB\u001b[0m \u001b[31m632.2 kB/s\u001b[0m eta \u001b[36m0:00:00\u001b[0m\n",
            "\u001b[?25hCollecting nvidia-cublas-cu12==12.1.3.1 (from torch>=1.11.0->sentence-transformers)\n",
            "  Downloading nvidia_cublas_cu12-12.1.3.1-py3-none-manylinux1_x86_64.whl (410.6 MB)\n",
            "\u001b[2K     \u001b[90m━━━━━━━━━━━━━━━━━━━━━━━━━━━━━━━━━━━━━━━━\u001b[0m \u001b[32m410.6/410.6 MB\u001b[0m \u001b[31m1.2 MB/s\u001b[0m eta \u001b[36m0:00:00\u001b[0m\n",
            "\u001b[?25hCollecting nvidia-cufft-cu12==11.0.2.54 (from torch>=1.11.0->sentence-transformers)\n",
            "  Downloading nvidia_cufft_cu12-11.0.2.54-py3-none-manylinux1_x86_64.whl (121.6 MB)\n",
            "\u001b[2K     \u001b[90m━━━━━━━━━━━━━━━━━━━━━━━━━━━━━━━━━━━━━━━━\u001b[0m \u001b[32m121.6/121.6 MB\u001b[0m \u001b[31m1.4 MB/s\u001b[0m eta \u001b[36m0:00:00\u001b[0m\n",
            "\u001b[?25hCollecting nvidia-curand-cu12==10.3.2.106 (from torch>=1.11.0->sentence-transformers)\n",
            "  Downloading nvidia_curand_cu12-10.3.2.106-py3-none-manylinux1_x86_64.whl (56.5 MB)\n",
            "\u001b[2K     \u001b[90m━━━━━━━━━━━━━━━━━━━━━━━━━━━━━━━━━━━━━━━━\u001b[0m \u001b[32m56.5/56.5 MB\u001b[0m \u001b[31m1.5 MB/s\u001b[0m eta \u001b[36m0:00:00\u001b[0m\n",
            "\u001b[?25hCollecting nvidia-cusolver-cu12==11.4.5.107 (from torch>=1.11.0->sentence-transformers)\n",
            "  Downloading nvidia_cusolver_cu12-11.4.5.107-py3-none-manylinux1_x86_64.whl (124.2 MB)\n",
            "\u001b[2K     \u001b[90m━━━━━━━━━━━━━━━━━━━━━━━━━━━━━━━━━━━━━━━━\u001b[0m \u001b[32m124.2/124.2 MB\u001b[0m \u001b[31m1.4 MB/s\u001b[0m eta \u001b[36m0:00:00\u001b[0m\n",
            "\u001b[?25hCollecting nvidia-cusparse-cu12==12.1.0.106 (from torch>=1.11.0->sentence-transformers)\n",
            "  Downloading nvidia_cusparse_cu12-12.1.0.106-py3-none-manylinux1_x86_64.whl (196.0 MB)\n",
            "\u001b[2K     \u001b[90m━━━━━━━━━━━━━━━━━━━━━━━━━━━━━━━━━━━━━━━━\u001b[0m \u001b[32m196.0/196.0 MB\u001b[0m \u001b[31m2.9 MB/s\u001b[0m eta \u001b[36m0:00:00\u001b[0m\n",
            "\u001b[?25hCollecting nvidia-nccl-cu12==2.19.3 (from torch>=1.11.0->sentence-transformers)\n",
            "  Downloading nvidia_nccl_cu12-2.19.3-py3-none-manylinux1_x86_64.whl (166.0 MB)\n",
            "\u001b[2K     \u001b[90m━━━━━━━━━━━━━━━━━━━━━━━━━━━━━━━━━━━━━━━━\u001b[0m \u001b[32m166.0/166.0 MB\u001b[0m \u001b[31m1.9 MB/s\u001b[0m eta \u001b[36m0:00:00\u001b[0m\n",
            "\u001b[?25hCollecting nvidia-nvtx-cu12==12.1.105 (from torch>=1.11.0->sentence-transformers)\n",
            "  Downloading nvidia_nvtx_cu12-12.1.105-py3-none-manylinux1_x86_64.whl (99 kB)\n",
            "\u001b[2K     \u001b[90m━━━━━━━━━━━━━━━━━━━━━━━━━━━━━━━━━━━━━━━━\u001b[0m \u001b[32m99.1/99.1 kB\u001b[0m \u001b[31m2.2 MB/s\u001b[0m eta \u001b[36m0:00:00\u001b[0m\n",
            "\u001b[?25hRequirement already satisfied: triton==2.2.0 in /usr/local/lib/python3.10/dist-packages (from torch>=1.11.0->sentence-transformers) (2.2.0)\n",
            "Collecting nvidia-nvjitlink-cu12 (from nvidia-cusolver-cu12==11.4.5.107->torch>=1.11.0->sentence-transformers)\n",
            "  Downloading nvidia_nvjitlink_cu12-12.4.127-py3-none-manylinux2014_x86_64.whl (21.1 MB)\n",
            "\u001b[2K     \u001b[90m━━━━━━━━━━━━━━━━━━━━━━━━━━━━━━━━━━━━━━━━\u001b[0m \u001b[32m21.1/21.1 MB\u001b[0m \u001b[31m3.1 MB/s\u001b[0m eta \u001b[36m0:00:00\u001b[0m\n",
            "\u001b[?25hRequirement already satisfied: regex!=2019.12.17 in /usr/local/lib/python3.10/dist-packages (from transformers<5.0.0,>=4.32.0->sentence-transformers) (2023.12.25)\n",
            "Requirement already satisfied: tokenizers<0.19,>=0.14 in /usr/local/lib/python3.10/dist-packages (from transformers<5.0.0,>=4.32.0->sentence-transformers) (0.15.2)\n",
            "Requirement already satisfied: safetensors>=0.4.1 in /usr/local/lib/python3.10/dist-packages (from transformers<5.0.0,>=4.32.0->sentence-transformers) (0.4.2)\n",
            "Requirement already satisfied: joblib>=1.1.1 in /usr/local/lib/python3.10/dist-packages (from scikit-learn->sentence-transformers) (1.3.2)\n",
            "Requirement already satisfied: threadpoolctl>=2.0.0 in /usr/local/lib/python3.10/dist-packages (from scikit-learn->sentence-transformers) (3.4.0)\n",
            "Requirement already satisfied: MarkupSafe>=2.0 in /usr/local/lib/python3.10/dist-packages (from jinja2->torch>=1.11.0->sentence-transformers) (2.1.5)\n",
            "Requirement already satisfied: charset-normalizer<4,>=2 in /usr/local/lib/python3.10/dist-packages (from requests->huggingface-hub>=0.15.1->sentence-transformers) (3.3.2)\n",
            "Requirement already satisfied: idna<4,>=2.5 in /usr/local/lib/python3.10/dist-packages (from requests->huggingface-hub>=0.15.1->sentence-transformers) (3.6)\n",
            "Requirement already satisfied: urllib3<3,>=1.21.1 in /usr/local/lib/python3.10/dist-packages (from requests->huggingface-hub>=0.15.1->sentence-transformers) (2.0.7)\n",
            "Requirement already satisfied: certifi>=2017.4.17 in /usr/local/lib/python3.10/dist-packages (from requests->huggingface-hub>=0.15.1->sentence-transformers) (2024.2.2)\n",
            "Requirement already satisfied: mpmath>=0.19 in /usr/local/lib/python3.10/dist-packages (from sympy->torch>=1.11.0->sentence-transformers) (1.3.0)\n",
            "Installing collected packages: nvidia-nvtx-cu12, nvidia-nvjitlink-cu12, nvidia-nccl-cu12, nvidia-curand-cu12, nvidia-cufft-cu12, nvidia-cuda-runtime-cu12, nvidia-cuda-nvrtc-cu12, nvidia-cuda-cupti-cu12, nvidia-cublas-cu12, nvidia-cusparse-cu12, nvidia-cudnn-cu12, nvidia-cusolver-cu12, sentence-transformers\n",
            "Successfully installed nvidia-cublas-cu12-12.1.3.1 nvidia-cuda-cupti-cu12-12.1.105 nvidia-cuda-nvrtc-cu12-12.1.105 nvidia-cuda-runtime-cu12-12.1.105 nvidia-cudnn-cu12-8.9.2.26 nvidia-cufft-cu12-11.0.2.54 nvidia-curand-cu12-10.3.2.106 nvidia-cusolver-cu12-11.4.5.107 nvidia-cusparse-cu12-12.1.0.106 nvidia-nccl-cu12-2.19.3 nvidia-nvjitlink-cu12-12.4.127 nvidia-nvtx-cu12-12.1.105 sentence-transformers-2.6.1\n"
          ]
        }
      ],
      "source": [
        "!pip install -U sentence-transformers"
      ]
    },
    {
      "cell_type": "markdown",
      "source": [
        "we have installed the sentence transformer libraries"
      ],
      "metadata": {
        "id": "5m9Xt_P74dxn"
      }
    },
    {
      "cell_type": "code",
      "source": [
        "import pandas as pd\n",
        "from sentence_transformers import SentenceTransformer, util\n",
        "import torch\n",
        "\n",
        "# Load the sentence transformer model\n",
        "model = SentenceTransformer('nq-distilbert-base-v1')\n",
        "\n",
        "# Load your data here\n",
        "# For the sake of this example, let's assume it's already loaded in a variable `data`\n",
        "data = pd.read_csv('/content/processed_movies.csv')\n",
        "\n",
        "# Combine the Title and Plot for indexing\n",
        "corpus = [f\"{row['Title']} {row['Plot']}\" for _, row in data.iterrows()]\n",
        "\n",
        "# Encode the corpus using the model\n",
        "corpus_embeddings = model.encode(corpus, convert_to_tensor=True)\n",
        "\n",
        "# Function to search the corpus\n",
        "def search(query: str, top_k: int = 5):\n",
        "    # Encode the query\n",
        "    query_embedding = model.encode(query, convert_to_tensor=True)\n",
        "\n",
        "    # Compute the similarities between the query and the corpus\n",
        "    similarities = util.pytorch_cos_sim(query_embedding, corpus_embeddings)[0]\n",
        "\n",
        "    # Find the top_k most similar entries\n",
        "    top_results = torch.topk(similarities, k=top_k)\n",
        "\n",
        "    print(\"Query:\", query)\n",
        "    print(\"\\nTop 5 most similar movies in the corpus:\")\n",
        "    for score, idx in zip(top_results[0], top_results[1]):\n",
        "        print(data.iloc[idx.item()]['Title'], \"(Score: {:.4f})\".format(score))\n",
        "\n",
        "# Get a search query from the user\n",
        "user_query = input(\"Enter your movie plot query: \")\n",
        "search(user_query)"
      ],
      "metadata": {
        "colab": {
          "base_uri": "https://localhost:8080/"
        },
        "id": "adahzfvvllss",
        "outputId": "a2ffa5bb-d995-474a-92dc-3bd45ed634d7"
      },
      "execution_count": null,
      "outputs": [
        {
          "output_type": "stream",
          "name": "stdout",
          "text": [
            "Enter your movie plot query: Documentaries showcasing indigenous peoples' survival and daily life in Arctic regions\n",
            "Query: Documentaries showcasing indigenous peoples' survival and daily life in Arctic regions\n",
            "\n",
            "Top 5 most similar movies in the corpus:\n",
            "Nanook of the North (Score: 0.4522)\n",
            "Kizhakkunarum Pakshi (Score: 0.4347)\n",
            "The 11th Hour (Score: 0.4232)\n",
            "O Pioneers! (Score: 0.4131)\n",
            "Being Caribou (Score: 0.4048)\n"
          ]
        }
      ]
    },
    {
      "cell_type": "markdown",
      "source": [
        "Let us calculate the values of @Recall and @MRR now.\n",
        "Recall@k = true positives@k + true negatives@k\n",
        "1. Documentaries showcasing indigenous pepoles survival and daily life in arctic regions\n",
        "The top 5 results for this query are : Nanook of the north,Kizhakunarum Pakshi,The 11th Hour,O Pioneers!,Being Caribou\n",
        "out of these five results, Nanook of the north - RELEVANT, Kizhakkunarum Pakshi - IRRELEVANT, The 11th hour - IRRELEVANT, O Pioneers! - Irrelevant, Being Caribou - RELEVANT\n",
        "Recall@1 = 1/(1+1)= 0.5\n"
      ],
      "metadata": {
        "id": "BBvuYtbb-tLO"
      }
    },
    {
      "cell_type": "markdown",
      "source": [
        "The metric is useful when we our system to return the best relevant item and want that item to be at higher position.\n",
        "The top 5 results for this query are : Nanook of the north,Kizhakunarum Pakshi,The 11th Hour,O Pioneers!,Being Caribou\n",
        "For this query, the reciporcal rank is 1/1 and MRR=1 (as the first correct item is at position)"
      ],
      "metadata": {
        "id": "_3w4K-QMw1Jk"
      }
    },
    {
      "cell_type": "code",
      "source": [
        "import pandas as pd\n",
        "from sentence_transformers import SentenceTransformer, util\n",
        "import torch\n",
        "\n",
        "# Load the sentence transformer model\n",
        "model = SentenceTransformer('nq-distilbert-base-v1')\n",
        "\n",
        "# Load your data here\n",
        "# For the sake of this example, let's assume it's already loaded in a variable `data`\n",
        "data = pd.read_csv('/content/processed_movies.csv')\n",
        "\n",
        "# Combine the Title and Plot for indexing\n",
        "corpus = [f\"{row['Title']} {row['Plot']}\" for _, row in data.iterrows()]\n",
        "\n",
        "# Encode the corpus using the model\n",
        "corpus_embeddings = model.encode(corpus, convert_to_tensor=True)\n",
        "\n",
        "# Function to search the corpus\n",
        "def search(query: str, top_k: int = 5):\n",
        "    # Encode the query\n",
        "    query_embedding = model.encode(query, convert_to_tensor=True)\n",
        "\n",
        "    # Compute the similarities between the query and the corpus\n",
        "    similarities = util.pytorch_cos_sim(query_embedding, corpus_embeddings)[0]\n",
        "\n",
        "    # Find the top_k most similar entries\n",
        "    top_results = torch.topk(similarities, k=top_k)\n",
        "\n",
        "    print(\"Query:\", query)\n",
        "    print(\"\\nTop 5 most similar movies in the corpus:\")\n",
        "    for score, idx in zip(top_results[0], top_results[1]):\n",
        "        print(data.iloc[idx.item()]['Title'], \"(Score: {:.4f})\".format(score))\n",
        "\n",
        "# Get a search query from the user\n",
        "user_query = input(\"Enter your movie plot query: \")\n",
        "search(user_query)"
      ],
      "metadata": {
        "colab": {
          "base_uri": "https://localhost:8080/"
        },
        "id": "R7oW3KHS3mLT",
        "outputId": "2a0208fe-e1b1-47e5-9c46-798cc59bacfe"
      },
      "execution_count": null,
      "outputs": [
        {
          "output_type": "stream",
          "name": "stdout",
          "text": [
            "Enter your movie plot query: Western romance\n",
            "Query: Western romance\n",
            "\n",
            "Top 5 most similar movies in the corpus:\n",
            "A Saloon Wet with Beautiful Women (Score: 0.4185)\n",
            "Lal Dupatta Malmal Ka (Score: 0.3901)\n",
            "Goodnight, Sweetheart (Score: 0.3745)\n",
            "Book of Love (Score: 0.3481)\n",
            "Modern Romance (Score: 0.3409)\n"
          ]
        }
      ]
    },
    {
      "cell_type": "markdown",
      "source": [
        "Let us calculate the values of @Recall and @MRR now. Recall@k = true positives@k + true negatives@k\n",
        "\n",
        "Documentaries showcasing indigenous pepoles survival and daily life in arctic regions The top 5 results for this query are : A Saloon Wet With Beautiful Women, Lal Dupatta Malmal ka, goodnight,sweetheart, book of love, modern Romance. Out of five results A saloon wet with beautiful women - Relevant, Lal Duppatta Malmal ka - irrelevant, goodnight,sweetheart - irrelevant, book of love - relevant, Modern romance - Relevant\n",
        "recall@1 - 1/(1+1) = 0.5"
      ],
      "metadata": {
        "id": "bY3hgVRPayje"
      }
    },
    {
      "cell_type": "markdown",
      "source": [
        "The metric is useful when we our system to return the best relevant item and want that item to be at higher position.\n",
        "The top 5 results for this query are :A Saloon Wet With Beautiful Women, Lal Dupatta Malmal ka, goodnight,sweetheart, book of love, modern Romance\n",
        "For this query, the reciporcal rank is 1/1 and MRR=1 (as the first correct item is at position)"
      ],
      "metadata": {
        "id": "HSuQNAziiHRH"
      }
    },
    {
      "cell_type": "code",
      "source": [
        "import pandas as pd\n",
        "from sentence_transformers import SentenceTransformer, util\n",
        "import torch\n",
        "\n",
        "# Load the sentence transformer model\n",
        "model = SentenceTransformer('nq-distilbert-base-v1')\n",
        "\n",
        "# Load your data here\n",
        "# For the sake of this example, let's assume it's already loaded in a variable `data`\n",
        "data = pd.read_csv('/content/processed_movies.csv')\n",
        "\n",
        "# Combine the Title and Plot for indexing\n",
        "corpus = [f\"{row['Title']} {row['Plot']}\" for _, row in data.iterrows()]\n",
        "\n",
        "# Encode the corpus using the model\n",
        "corpus_embeddings = model.encode(corpus, convert_to_tensor=True)\n",
        "\n",
        "# Function to search the corpus\n",
        "def search(query: str, top_k: int = 5):\n",
        "    # Encode the query\n",
        "    query_embedding = model.encode(query, convert_to_tensor=True)\n",
        "\n",
        "    # Compute the similarities between the query and the corpus\n",
        "    similarities = util.pytorch_cos_sim(query_embedding, corpus_embeddings)[0]\n",
        "\n",
        "    # Find the top_k most similar entries\n",
        "    top_results = torch.topk(similarities, k=top_k)\n",
        "\n",
        "    print(\"Query:\", query)\n",
        "    print(\"\\nTop 5 most similar movies in the corpus:\")\n",
        "    for score, idx in zip(top_results[0], top_results[1]):\n",
        "        print(data.iloc[idx.item()]['Title'], \"(Score: {:.4f})\".format(score))\n",
        "\n",
        "# Get a search query from the user\n",
        "user_query = input(\"Enter your movie plot query: \")\n",
        "search(user_query)"
      ],
      "metadata": {
        "colab": {
          "base_uri": "https://localhost:8080/"
        },
        "id": "2vDqAJMK5syH",
        "outputId": "0586230a-5539-4162-f8ab-ac43d383b019"
      },
      "execution_count": null,
      "outputs": [
        {
          "output_type": "stream",
          "name": "stdout",
          "text": [
            "Enter your movie plot query: Silent film about a Parisian star moving to Egypt, leaving her husband for a baron, and later reconciling after finding her family in poverty in Cairo.\n",
            "Query: Silent film about a Parisian star moving to Egypt, leaving her husband for a baron, and later reconciling after finding her family in poverty in Cairo.\n",
            "\n",
            "Top 5 most similar movies in the corpus:\n",
            "Picture Brides (Score: 0.5516)\n",
            "A Korean in Paris (Score: 0.5418)\n",
            "Golden Arrow (Score: 0.5254)\n",
            "Desert Legion (Score: 0.5107)\n",
            "Hotel Chelsea (Score: 0.5045)\n"
          ]
        }
      ]
    },
    {
      "cell_type": "markdown",
      "source": [
        "Let us calculate the values of @Recall and @MRR now. Recall@k = true positives@k + true negatives@k\n",
        "\n",
        "Documentaries showcasing indigenous pepoles survival and daily life in arctic regions The top 5 results for this query are: picture Brides, A korean in paris, Golden Arrow, Desert Legion, Hotel Chelsea out of 5\n",
        "recall@1 : 1/(1+2)= 0.33"
      ],
      "metadata": {
        "id": "blyAPznRe8iV"
      }
    },
    {
      "cell_type": "markdown",
      "source": [
        "The metric is useful when we our system to return the best relevant item and want that item to be at higher position.\n",
        "The top 5 results for this query are :  picture Brides, A korean in paris, Golden Arrow, Desert Legion, Hotel Chelsea\n",
        "For this query, the reciporcal rank is 1/1 and MRR=1 (as the first correct item is at position)"
      ],
      "metadata": {
        "id": "POJIs5N7iJM_"
      }
    },
    {
      "cell_type": "code",
      "source": [
        "import pandas as pd\n",
        "from sentence_transformers import SentenceTransformer, util\n",
        "import torch\n",
        "\n",
        "# Load the sentence transformer model\n",
        "model = SentenceTransformer('nq-distilbert-base-v1')\n",
        "\n",
        "# Load your data here\n",
        "# For the sake of this example, let's assume it's already loaded in a variable `data`\n",
        "data = pd.read_csv('/content/processed_movies.csv')\n",
        "\n",
        "# Combine the Title and Plot for indexing\n",
        "corpus = [f\"{row['Title']} {row['Plot']}\" for _, row in data.iterrows()]\n",
        "\n",
        "# Encode the corpus using the model\n",
        "corpus_embeddings = model.encode(corpus, convert_to_tensor=True)\n",
        "\n",
        "# Function to search the corpus\n",
        "def search(query: str, top_k: int = 5):\n",
        "    # Encode the query\n",
        "    query_embedding = model.encode(query, convert_to_tensor=True)\n",
        "\n",
        "    # Compute the similarities between the query and the corpus\n",
        "    similarities = util.pytorch_cos_sim(query_embedding, corpus_embeddings)[0]\n",
        "\n",
        "    # Find the top_k most similar entries\n",
        "    top_results = torch.topk(similarities, k=top_k)\n",
        "\n",
        "    print(\"Query:\", query)\n",
        "    print(\"\\nTop 5 most similar movies in the corpus:\")\n",
        "    for score, idx in zip(top_results[0], top_results[1]):\n",
        "        print(data.iloc[idx.item()]['Title'], \"(Score: {:.4f})\".format(score))\n",
        "\n",
        "# Get a search query from the user\n",
        "user_query = input(\"Enter your movie plot query: \")\n",
        "search(user_query)"
      ],
      "metadata": {
        "colab": {
          "base_uri": "https://localhost:8080/"
        },
        "id": "DEjGNfi9-Ifd",
        "outputId": "2ac369d9-9203-485d-cf6e-a1919b528759"
      },
      "execution_count": null,
      "outputs": [
        {
          "output_type": "stream",
          "name": "stdout",
          "text": [
            "Enter your movie plot query: \"Comedy film, office disguises, boss's daughter, elopement\n",
            "Query: \"Comedy film, office disguises, boss's daughter, elopement\n",
            "\n",
            "Top 5 most similar movies in the corpus:\n",
            "Lal Dupatta Malmal Ka (Score: 0.4546)\n",
            "Ami Aar Amar Girlfriends (Score: 0.4540)\n",
            "The Boy Friend (Score: 0.4454)\n",
            "Lock Up Your Daughters! (Score: 0.4448)\n",
            "Interlude (Score: 0.4402)\n"
          ]
        }
      ]
    },
    {
      "cell_type": "markdown",
      "source": [
        "Let us calculate the values of @Recall and @MRR now. Recall@k = true positives@k + true negatives@k\n",
        "\n",
        "Documentaries showcasing indigenous pepoles survival and daily life in arctic regions The top 5 results for this query are: Lal dupatta Malmal ka, ami aar amar girlfriend, the boy friend, lockup your duaghters!, interlude out of 5\n",
        "recall@1 - 1/(1+2)= 0.33"
      ],
      "metadata": {
        "id": "Bx7N16r7ffW6"
      }
    },
    {
      "cell_type": "markdown",
      "source": [
        "The metric is useful when we our system to return the best relevant item and want that item to be at higher position.\n",
        "The top 5 results for this query are : Lal dupatta Malmal ka, ami aar amar girlfriend, the boy friend, lockup your duaghters!, interlude\n",
        "For this query, the reciporcal rank is 1/1 and MRR=1 (as the first correct item is at position)"
      ],
      "metadata": {
        "id": "G5qx2EaSiKkw"
      }
    },
    {
      "cell_type": "code",
      "source": [
        "import pandas as pd\n",
        "from sentence_transformers import SentenceTransformer, util\n",
        "import torch\n",
        "\n",
        "# Load the sentence transformer model\n",
        "model = SentenceTransformer('nq-distilbert-base-v1')\n",
        "\n",
        "# Load your data here\n",
        "# For the sake of this example, let's assume it's already loaded in a variable `data`\n",
        "data = pd.read_csv('/content/processed_movies.csv')\n",
        "\n",
        "# Combine the Title and Plot for indexing\n",
        "corpus = [f\"{row['Title']} {row['Plot']}\" for _, row in data.iterrows()]\n",
        "\n",
        "# Encode the corpus using the model\n",
        "corpus_embeddings = model.encode(corpus, convert_to_tensor=True)\n",
        "\n",
        "# Function to search the corpus\n",
        "def search(query: str, top_k: int = 5):\n",
        "    # Encode the query\n",
        "    query_embedding = model.encode(query, convert_to_tensor=True)\n",
        "\n",
        "    # Compute the similarities between the query and the corpus\n",
        "    similarities = util.pytorch_cos_sim(query_embedding, corpus_embeddings)[0]\n",
        "\n",
        "    # Find the top_k most similar entries\n",
        "    top_results = torch.topk(similarities, k=top_k)\n",
        "\n",
        "    print(\"Query:\", query)\n",
        "    print(\"\\nTop 5 most similar movies in the corpus:\")\n",
        "    for score, idx in zip(top_results[0], top_results[1]):\n",
        "        print(data.iloc[idx.item()]['Title'], \"(Score: {:.4f})\".format(score))\n",
        "\n",
        "# Get a search query from the user\n",
        "user_query = input(\"Enter your movie plot query: \")\n",
        "search(user_query)"
      ],
      "metadata": {
        "colab": {
          "base_uri": "https://localhost:8080/"
        },
        "id": "stXkbnJtAU_V",
        "outputId": "919bbe94-12cb-4e04-b267-1d9b471e8c14"
      },
      "execution_count": null,
      "outputs": [
        {
          "output_type": "stream",
          "name": "stdout",
          "text": [
            "Enter your movie plot query: \"Lost film, Cleopatra charms Caesar, plots world rule, treasures from mummy, revels with Antony, tragic end with serpent in Alexandria\n",
            "Query: \"Lost film, Cleopatra charms Caesar, plots world rule, treasures from mummy, revels with Antony, tragic end with serpent in Alexandria\n",
            "\n",
            "Top 5 most similar movies in the corpus:\n",
            "Cleopatra (Score: 0.5163)\n",
            "Caesar and Cleopatra (Score: 0.4826)\n",
            "Love's Labour's Lost (Score: 0.4508)\n",
            "Lost and Found (Score: 0.4473)\n",
            "Royal Treasure (Score: 0.4423)\n"
          ]
        }
      ]
    },
    {
      "cell_type": "markdown",
      "source": [
        "Let us calculate the values of @Recall and @MRR now. Recall@k = true positives@k + true negatives@k\n",
        "\n",
        "Documentaries showcasing indigenous pepoles survival and daily life in arctic regions The top 5 results for this query are:cleopatra, caesar and cleopatra, loves labours lost, lost and found, royal treasure\n",
        "Reacall@1- 1/(1+2) = 0.33"
      ],
      "metadata": {
        "id": "yCjUWuOwf6JL"
      }
    },
    {
      "cell_type": "markdown",
      "source": [
        "The metric is useful when we our system to return the best relevant item and want that item to be at higher position.\n",
        "The top 5 results for this query are : cleopatra, caesar and cleopatra, loves labours lost, lost and found, royal treasure\n",
        "For this query, the reciporcal rank is 1/1 and MRR=1 (as the first correct item is at position)"
      ],
      "metadata": {
        "id": "Vi4NiDlwiL5I"
      }
    },
    {
      "cell_type": "code",
      "source": [
        "import pandas as pd\n",
        "from sentence_transformers import SentenceTransformer, util\n",
        "import torch\n",
        "\n",
        "# Load the sentence transformer model\n",
        "model = SentenceTransformer('nq-distilbert-base-v1')\n",
        "\n",
        "# Load your data here\n",
        "# For the sake of this example, let's assume it's already loaded in a variable `data`\n",
        "data = pd.read_csv('/content/processed_movies.csv')\n",
        "\n",
        "# Combine the Title and Plot for indexing\n",
        "corpus = [f\"{row['Title']} {row['Plot']}\" for _, row in data.iterrows()]\n",
        "\n",
        "# Encode the corpus using the model\n",
        "corpus_embeddings = model.encode(corpus, convert_to_tensor=True)\n",
        "\n",
        "# Function to search the corpus\n",
        "def search(query: str, top_k: int = 5):\n",
        "    # Encode the query\n",
        "    query_embedding = model.encode(query, convert_to_tensor=True)\n",
        "\n",
        "    # Compute the similarities between the query and the corpus\n",
        "    similarities = util.pytorch_cos_sim(query_embedding, corpus_embeddings)[0]\n",
        "\n",
        "    # Find the top_k most similar entries\n",
        "    top_results = torch.topk(similarities, k=top_k)\n",
        "\n",
        "    print(\"Query:\", query)\n",
        "    print(\"\\nTop 5 most similar movies in the corpus:\")\n",
        "    for score, idx in zip(top_results[0], top_results[1]):\n",
        "        print(data.iloc[idx.item()]['Title'], \"(Score: {:.4f})\".format(score))\n",
        "\n",
        "# Get a search query from the user\n",
        "user_query = input(\"Enter your movie plot query: \")\n",
        "search(user_query)"
      ],
      "metadata": {
        "colab": {
          "base_uri": "https://localhost:8080/"
        },
        "id": "SbTdqLYQ8GDV",
        "outputId": "9bb331ab-a3e2-4154-974d-c8a666c13100"
      },
      "execution_count": null,
      "outputs": [
        {
          "output_type": "stream",
          "name": "stdout",
          "text": [
            "Enter your movie plot query: Denis Gage Deane-Tanner\n",
            "Query: Denis Gage Deane-Tanner\n",
            "\n",
            "Top 5 most similar movies in the corpus:\n",
            "The Baxter (Score: 0.4854)\n",
            "Meet Simon Cherry (Score: 0.4470)\n",
            "Wedding Rehearsal (Score: 0.4275)\n",
            "Boys Are Back, TheThe Boys Are Back (Score: 0.4087)\n",
            "The Running Man (Score: 0.4085)\n"
          ]
        }
      ]
    },
    {
      "cell_type": "markdown",
      "source": [
        "Let us calculate the values of @Recall and @MRR now. Recall@k = true positives@k + true negatives@k\n",
        "\n",
        "Documentaries showcasing indigenous pepoles survival and daily life in arctic regions The top 5 results for this query are:The Baxter, meet simon cherry, wedding reharsal,boys are back, the running man\n",
        "Recall@1- 1/(1+1)= 0.5"
      ],
      "metadata": {
        "id": "sj_RFk3wf7YF"
      }
    },
    {
      "cell_type": "markdown",
      "source": [
        "The metric is useful when we our system to return the best relevant item and want that item to be at higher position.\n",
        "The top 5 results for this query are : The Baxter, meet simon cherry, wedding reharsal,boys are back, the running man\n",
        "For this query, the reciporcal rank is 1/1 and MRR=1 (as the first correct item is at position)"
      ],
      "metadata": {
        "id": "doQQ6olJiM1g"
      }
    }
  ]
}